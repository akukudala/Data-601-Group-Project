excel_file="https://github.com/akukudala/Practice_repo/blob/main/Cleaned_data601.xlsx"
