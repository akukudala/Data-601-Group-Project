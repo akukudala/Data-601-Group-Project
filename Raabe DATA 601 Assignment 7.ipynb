{
 "cells": [
  {
   "cell_type": "markdown",
   "id": "5d1fb817",
   "metadata": {},
   "source": [
    "## INSTRUCTIONS: \n",
    "\n",
    "A .zip containing .txt and .docx files is attached.\n",
    "\n",
    "> Folder title: \"week_8_documents\"\n",
    "\n",
    "For each file, remove punctuation and stop words.\n",
    "\n",
    "Produce a single .dat file containing the name of the file in quotes, a colon, then a list of words separated by commas. The list of words per file should be unique. Do not include URLs or phone numbers.\n"
   ]
  },
  {
   "cell_type": "code",
   "execution_count": 269,
   "id": "72858085",
   "metadata": {},
   "outputs": [
    {
     "name": "stdout",
     "output_type": "stream",
     "text": [
      "Requirement already satisfied: python-docx in c:\\users\\adamg\\anaconda3\\lib\\site-packages (0.8.11)\n",
      "Requirement already satisfied: lxml>=2.3.2 in c:\\users\\adamg\\anaconda3\\lib\\site-packages (from python-docx) (4.6.3)\n"
     ]
    }
   ],
   "source": [
    "#needed to read docx files\n",
    "!pip install python-docx"
   ]
  },
  {
   "cell_type": "code",
   "execution_count": 2,
   "id": "9a7c910e",
   "metadata": {},
   "outputs": [],
   "source": [
    "import os\n",
    "import re\n",
    "from docx import Document\n",
    "\n",
    "def words(doc):\n",
    "    \n",
    "    try:\n",
    "        if doc.endswith('.docx'):\n",
    "            document = Document(doc)\n",
    "            text = \"\"\n",
    "            for para in document.paragraphs:\n",
    "                text = text + para.text.lower() + \"\\n\"\n",
    "        else:\n",
    "            with open(doc,'r') as reader:\n",
    "                text = reader.read().lower()\n",
    "    except: \n",
    "        return(\"Error: Is this open?\")\n",
    "    \n",
    "    \n",
    "    # Assumes that all hyperlinks are followed by an enter, removes them\n",
    "    text = text.split(\"\\n\")\n",
    "    filteredText = \"\"\n",
    "    for item in text:\n",
    "        if \"http\" not in item:\n",
    "            filteredText = filteredText + \" \" + item\n",
    "    text = filteredText\n",
    "    # Removes punctuation; Quotes are shape sensitive for .txt; Apostrophe ( ' ) left out of list intentionally\n",
    "    punctuation = ['.',',','!','?', '(', ')', ';', '“','”', '-', '/', \"[\", \"]\"] \n",
    "    for char in text:\n",
    "        if char in punctuation:\n",
    "            text = text.replace(char,\" \")\n",
    "    \n",
    "    \n",
    "    # Finds all words by Regular Expression\n",
    "    # NLTK method not being used bc it splits words by apostrophes so -> word's beccomes [word, 's]\n",
    "    words = text.split(\" \")\n",
    "    uniqWords = set()\n",
    "    for word in words:\n",
    "        if re.search(r'[a-z]',word) != None and word not in uniqWords:\n",
    "            uniqWords.add(word)\n",
    "\n",
    "    return(uniqWords)\n",
    "        "
   ]
  },
  {
   "cell_type": "code",
   "execution_count": 3,
   "id": "e919370f",
   "metadata": {
    "scrolled": true
   },
   "outputs": [
    {
     "name": "stdout",
     "output_type": "stream",
     "text": [
      "week_8_document1.docx\n",
      "./week_8_documents/week_8_document1.docx\n",
      "week_8_document2.txt\n",
      "./week_8_documents/week_8_document2.txt\n",
      "\n",
      "Successfully wrote to: assignment7_printout.txt\n"
     ]
    }
   ],
   "source": [
    "# Info for opening documents\n",
    "location = \"./week_8_documents/\"\n",
    "datTypes = ('.txt','.docx')\n",
    "\n",
    "# Storage info for written document\n",
    "results = {}\n",
    "newDoc = ('assignment7_printout.dat') # Will be overwritten each run\n",
    "\n",
    "# Iterate through each document in the directory, and if we want to read it, run the analysis on it\n",
    "for filename in os.listdir(location):\n",
    "    if filename.endswith(datTypes):\n",
    "        print(filename)\n",
    "        \n",
    "        # {create function here}\n",
    "        print(location+filename)\n",
    "        results[filename] = words(location+filename)\n",
    "        \n",
    "output = [None]*len(results)\n",
    "cntr = 0 \n",
    "for item in results:\n",
    "    text = '\"' + item + '\":'\n",
    "    text = text + \",\".join(results[item])\n",
    "    output[cntr] = text\n",
    "    cntr+=1;\n",
    "    \n",
    "\n",
    "try:\n",
    "    outFile = open(newDoc,\"w\")\n",
    "    for row in output:\n",
    "        outFile.write(row+\"\\n\")\n",
    "    outFile.close()\n",
    "    print(\"\\nSuccessfully wrote to: \"+newDoc)\n",
    "except:\n",
    "    print(\"\\nUnable to write to file\")\n"
   ]
  },
  {
   "cell_type": "code",
   "execution_count": null,
   "id": "aa0805ef",
   "metadata": {},
   "outputs": [],
   "source": []
  }
 ],
 "metadata": {
  "kernelspec": {
   "display_name": "Python 3 (ipykernel)",
   "language": "python",
   "name": "python3"
  },
  "language_info": {
   "codemirror_mode": {
    "name": "ipython",
    "version": 3
   },
   "file_extension": ".py",
   "mimetype": "text/x-python",
   "name": "python",
   "nbconvert_exporter": "python",
   "pygments_lexer": "ipython3",
   "version": "3.9.7"
  }
 },
 "nbformat": 4,
 "nbformat_minor": 5
}
